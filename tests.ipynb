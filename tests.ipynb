{
 "cells": [
  {
   "cell_type": "code",
   "execution_count": 1,
   "id": "restricted-immigration",
   "metadata": {},
   "outputs": [],
   "source": [
    "%load_ext autoreload\n",
    "%autoreload 2"
   ]
  },
  {
   "cell_type": "markdown",
   "id": "british-pearl",
   "metadata": {},
   "source": [
    "Download if file is not in folder."
   ]
  },
  {
   "cell_type": "code",
   "execution_count": 2,
   "id": "weird-depth",
   "metadata": {},
   "outputs": [],
   "source": [
    "from litedict import SQLDict"
   ]
  },
  {
   "cell_type": "code",
   "execution_count": 3,
   "id": "aerial-float",
   "metadata": {},
   "outputs": [],
   "source": [
    "TEST_1 = \"key_test_1\"\n",
    "TEST_2 = \"key_test_2\""
   ]
  },
  {
   "cell_type": "markdown",
   "id": "narrative-corpus",
   "metadata": {},
   "source": [
    "Basic functionality"
   ]
  },
  {
   "cell_type": "code",
   "execution_count": 4,
   "id": "secure-platinum",
   "metadata": {},
   "outputs": [],
   "source": [
    "d = SQLDict(\":memory:\")\n",
    "\n",
    "d[TEST_1] = \"asdfoobar\"\n",
    "\n",
    "assert d[TEST_1] == \"asdfoobar\"\n",
    "\n",
    "del d[TEST_1]\n",
    "\n",
    "assert d.get(TEST_1, None) is None"
   ]
  },
  {
   "cell_type": "markdown",
   "id": "gross-stamp",
   "metadata": {},
   "source": [
    "Glob matching"
   ]
  },
  {
   "cell_type": "code",
   "execution_count": 5,
   "id": "sixth-consistency",
   "metadata": {},
   "outputs": [],
   "source": [
    "d[TEST_1] = \"asdfoobar\"\n",
    "\n",
    "d[TEST_2] = \"foobarasd\"\n",
    "\n",
    "d[\"key_testx_3\"] = \"barasdfoo\"\n",
    "\n",
    "assert d.glob(\"key_test*\") == [\"asdfoobar\", \"foobarasd\", \"barasdfoo\"]\n",
    "\n",
    "assert d.glob(\"key_test_?\") == [\"asdfoobar\", \"foobarasd\"]\n",
    "\n",
    "assert d.glob(\"key_tes[tx]*\") == [\"asdfoobar\", \"foobarasd\", \"barasdfoo\"]"
   ]
  },
  {
   "cell_type": "markdown",
   "id": "novel-telling",
   "metadata": {},
   "source": [
    "Numbers"
   ]
  },
  {
   "cell_type": "code",
   "execution_count": 6,
   "id": "north-equipment",
   "metadata": {},
   "outputs": [],
   "source": [
    "d[TEST_1] = 1\n",
    "\n",
    "d[TEST_2] = 2\n",
    "\n",
    "assert d[TEST_1] + d[TEST_2] == 3"
   ]
  },
  {
   "cell_type": "code",
   "execution_count": 7,
   "id": "minute-distinction",
   "metadata": {},
   "outputs": [],
   "source": [
    "with d.transaction():\n",
    "    d[\"asd\"] = \"efg\"\n",
    "    d[\"foo\"] = \"bar\"\n",
    "    assert d.conn.in_transaction"
   ]
  },
  {
   "cell_type": "code",
   "execution_count": 8,
   "id": "aquatic-receiver",
   "metadata": {},
   "outputs": [],
   "source": [
    "try:\n",
    "    with d.transaction():\n",
    "        d[\"failed\"] = \"no\"\n",
    "\n",
    "        assert d.conn.in_transaction\n",
    "\n",
    "        raise Exception\n",
    "except:\n",
    "    # check the transaction succesfully rolled back\n",
    "    assert d.get(\"failed\") is None"
   ]
  },
  {
   "cell_type": "markdown",
   "id": "authentic-colon",
   "metadata": {},
   "source": [
    "## Benchmarks"
   ]
  },
  {
   "cell_type": "code",
   "execution_count": 9,
   "id": "optional-settle",
   "metadata": {},
   "outputs": [],
   "source": [
    "from string import ascii_lowercase, printable\n",
    "from random import choice\n",
    "import random\n",
    "\n",
    "\n",
    "def random_string(string_length=10, fuzz=False, space=False):\n",
    "    \"\"\"Generate a random string of fixed length \"\"\"\n",
    "    letters = ascii_lowercase\n",
    "    letters = letters + \" \" if space else letters\n",
    "    if fuzz:\n",
    "        letters = printable\n",
    "    return \"\".join(choice(letters) for i in range(string_length))"
   ]
  },
  {
   "cell_type": "code",
   "execution_count": 10,
   "id": "devoted-cruise",
   "metadata": {},
   "outputs": [],
   "source": [
    "import gc\n",
    "\n",
    "import pickle\n",
    "\n",
    "import json"
   ]
  },
  {
   "cell_type": "markdown",
   "id": "needed-scope",
   "metadata": {},
   "source": [
    "**Pickle**"
   ]
  },
  {
   "cell_type": "code",
   "execution_count": 11,
   "id": "sacred-track",
   "metadata": {},
   "outputs": [],
   "source": [
    "d = SQLDict(\n",
    "    \":memory:\",\n",
    "    encoder=lambda x: pickle.dumps(x).hex(),\n",
    "    decoder=lambda x: pickle.loads(bytes.fromhex(x)),\n",
    ")"
   ]
  },
  {
   "cell_type": "code",
   "execution_count": 12,
   "id": "dense-ozone",
   "metadata": {},
   "outputs": [
    {
     "data": {
      "text/plain": [
       "110"
      ]
     },
     "execution_count": 12,
     "metadata": {},
     "output_type": "execute_result"
    }
   ],
   "source": [
    "gc.collect()"
   ]
  },
  {
   "cell_type": "code",
   "execution_count": 13,
   "id": "sacred-tennis",
   "metadata": {},
   "outputs": [
    {
     "name": "stdout",
     "output_type": "stream",
     "text": [
      "82.2 µs ± 6.66 µs per loop (mean ± std. dev. of 10 runs, 20000 loops each)\n"
     ]
    }
   ],
   "source": [
    "%%timeit -n20000 -r10\n",
    "\n",
    "d[random_string(8)] = random_string(50)\n",
    "\n",
    "d.get(random_string(8), None)"
   ]
  },
  {
   "cell_type": "markdown",
   "id": "correct-smith",
   "metadata": {},
   "source": [
    "**Noop**"
   ]
  },
  {
   "cell_type": "code",
   "execution_count": 14,
   "id": "imported-university",
   "metadata": {},
   "outputs": [],
   "source": [
    "d = SQLDict(\n",
    "    \":memory:\",\n",
    "    encoder=lambda x: x,\n",
    "    decoder=lambda x: x,\n",
    ")"
   ]
  },
  {
   "cell_type": "code",
   "execution_count": 15,
   "id": "tutorial-trauma",
   "metadata": {},
   "outputs": [
    {
     "data": {
      "text/plain": [
       "0"
      ]
     },
     "execution_count": 15,
     "metadata": {},
     "output_type": "execute_result"
    }
   ],
   "source": [
    "gc.collect()"
   ]
  },
  {
   "cell_type": "code",
   "execution_count": 16,
   "id": "bulgarian-colombia",
   "metadata": {},
   "outputs": [
    {
     "name": "stdout",
     "output_type": "stream",
     "text": [
      "82.4 µs ± 4.83 µs per loop (mean ± std. dev. of 10 runs, 20000 loops each)\n"
     ]
    }
   ],
   "source": [
    "%%timeit -n20000 -r10\n",
    "\n",
    "d[random_string(8)] = random_string(50)\n",
    "\n",
    "d.get(random_string(8), None)"
   ]
  },
  {
   "cell_type": "markdown",
   "id": "hollow-briefs",
   "metadata": {},
   "source": [
    "**JSON**"
   ]
  },
  {
   "cell_type": "code",
   "execution_count": 17,
   "id": "frank-stable",
   "metadata": {},
   "outputs": [],
   "source": [
    "d = SQLDict(\n",
    "    \":memory:\",\n",
    "    encoder=lambda x: json.dumps(x),\n",
    "    decoder=lambda x: json.loads(x),\n",
    ")"
   ]
  },
  {
   "cell_type": "code",
   "execution_count": 18,
   "id": "wooden-enlargement",
   "metadata": {},
   "outputs": [
    {
     "data": {
      "text/plain": [
       "69"
      ]
     },
     "execution_count": 18,
     "metadata": {},
     "output_type": "execute_result"
    }
   ],
   "source": [
    "gc.collect()"
   ]
  },
  {
   "cell_type": "code",
   "execution_count": 19,
   "id": "after-essex",
   "metadata": {},
   "outputs": [
    {
     "name": "stdout",
     "output_type": "stream",
     "text": [
      "95.4 µs ± 24.5 µs per loop (mean ± std. dev. of 10 runs, 20000 loops each)\n"
     ]
    }
   ],
   "source": [
    "%%timeit -n20000 -r10\n",
    "\n",
    "d[random_string(8)] = random_string(50)\n",
    "\n",
    "d.get(random_string(8), None)"
   ]
  },
  {
   "cell_type": "markdown",
   "id": "standard-asian",
   "metadata": {},
   "source": [
    "**Pickle Python obj**"
   ]
  },
  {
   "cell_type": "code",
   "execution_count": 20,
   "id": "dressed-investor",
   "metadata": {},
   "outputs": [],
   "source": [
    "d = SQLDict(\n",
    "    \":memory:\",\n",
    "    encoder=lambda x: pickle.dumps(x).hex(),\n",
    "    decoder=lambda x: pickle.loads(bytes.fromhex(x)),\n",
    ")"
   ]
  },
  {
   "cell_type": "code",
   "execution_count": 21,
   "id": "sustained-aviation",
   "metadata": {},
   "outputs": [
    {
     "data": {
      "text/plain": [
       "69"
      ]
     },
     "execution_count": 21,
     "metadata": {},
     "output_type": "execute_result"
    }
   ],
   "source": [
    "gc.collect()"
   ]
  },
  {
   "cell_type": "code",
   "execution_count": 22,
   "id": "technological-filling",
   "metadata": {},
   "outputs": [],
   "source": [
    "class C:\n",
    "    def __init__(self, x):\n",
    "        self.x = x\n",
    "\n",
    "    def pp(self):\n",
    "        return x\n",
    "\n",
    "    def f(self):\n",
    "        def _f(y):\n",
    "            return y * self.x ** 2\n",
    "\n",
    "        return _f"
   ]
  },
  {
   "cell_type": "code",
   "execution_count": 23,
   "id": "direct-accent",
   "metadata": {},
   "outputs": [
    {
     "name": "stdout",
     "output_type": "stream",
     "text": [
      "58.6 µs ± 21.2 µs per loop (mean ± std. dev. of 10 runs, 20000 loops each)\n"
     ]
    }
   ],
   "source": [
    "%%timeit -n20000 -r10\n",
    "\n",
    "d[random_string(8)] = C(random.randint(1, 200))\n",
    "\n",
    "d.get(random_string(8), None)"
   ]
  },
  {
   "cell_type": "markdown",
   "id": "compliant-colony",
   "metadata": {},
   "source": [
    "**Dictionary**"
   ]
  },
  {
   "cell_type": "code",
   "execution_count": 24,
   "id": "ready-palestine",
   "metadata": {},
   "outputs": [],
   "source": [
    "d = {}"
   ]
  },
  {
   "cell_type": "code",
   "execution_count": 25,
   "id": "beginning-survey",
   "metadata": {},
   "outputs": [
    {
     "data": {
      "text/plain": [
       "91"
      ]
     },
     "execution_count": 25,
     "metadata": {},
     "output_type": "execute_result"
    }
   ],
   "source": [
    "gc.collect()"
   ]
  },
  {
   "cell_type": "code",
   "execution_count": 26,
   "id": "civic-preservation",
   "metadata": {},
   "outputs": [
    {
     "name": "stdout",
     "output_type": "stream",
     "text": [
      "59.4 µs ± 2.59 µs per loop (mean ± std. dev. of 10 runs, 20000 loops each)\n"
     ]
    }
   ],
   "source": [
    "%%timeit -n20000 -r10\n",
    "\n",
    "d[random_string(8)] = random_string(50)\n",
    "\n",
    "d.get(random_string(8), None)"
   ]
  }
 ],
 "metadata": {
  "kernelspec": {
   "display_name": "Python 3",
   "language": "python",
   "name": "python3"
  },
  "language_info": {
   "codemirror_mode": {
    "name": "ipython",
    "version": 3
   },
   "file_extension": ".py",
   "mimetype": "text/x-python",
   "name": "python",
   "nbconvert_exporter": "python",
   "pygments_lexer": "ipython3",
   "version": "3.7.9"
  }
 },
 "nbformat": 4,
 "nbformat_minor": 5
}
