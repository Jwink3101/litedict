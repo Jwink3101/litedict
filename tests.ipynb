{
 "cells": [
  {
   "cell_type": "code",
   "execution_count": null,
   "id": "complicated-dominican",
   "metadata": {},
   "outputs": [],
   "source": [
    "%load_ext autoreload\n",
    "%autoreload 2"
   ]
  },
  {
   "cell_type": "markdown",
   "id": "european-burlington",
   "metadata": {},
   "source": [
    "Download if file is not in folder."
   ]
  },
  {
   "cell_type": "code",
   "execution_count": null,
   "id": "reasonable-victor",
   "metadata": {},
   "outputs": [],
   "source": [
    "# try:\n",
    "#     import google.colab\n",
    "\n",
    "#     IN_COLAB = True\n",
    "# except:\n",
    "#     IN_COLAB = False\n",
    "\n",
    "# if IN_COLAB:\n",
    "#     import subprocess\n",
    "#     subprocess.run([\"pip\", \"install\" , \"git+...\"]"
   ]
  },
  {
   "cell_type": "code",
   "execution_count": null,
   "id": "changed-repeat",
   "metadata": {},
   "outputs": [
    {
     "name": "stdout",
     "output_type": "stream",
     "text": [
      "\u001b[1mAll done! ✨ 🍰 ✨\u001b[0m\n",
      "1 file left unchanged.\u001b[0m\n"
     ]
    }
   ],
   "source": [
    "!black litedict.py"
   ]
  },
  {
   "cell_type": "code",
   "execution_count": null,
   "id": "passive-antique",
   "metadata": {},
   "outputs": [],
   "source": [
    "from litedict import SQLDict"
   ]
  },
  {
   "cell_type": "code",
   "execution_count": null,
   "id": "instant-termination",
   "metadata": {},
   "outputs": [],
   "source": [
    "TEST_1 = \"key_test_1\"\n",
    "TEST_2 = \"key_test_2\""
   ]
  },
  {
   "cell_type": "markdown",
   "id": "chief-queensland",
   "metadata": {},
   "source": [
    "Basic functionality"
   ]
  },
  {
   "cell_type": "code",
   "execution_count": null,
   "id": "minor-solid",
   "metadata": {},
   "outputs": [],
   "source": [
    "d = SQLDict(\":memory:\")\n",
    "\n",
    "d[TEST_1] = \"asdfoobar\"\n",
    "\n",
    "assert d[TEST_1] == \"asdfoobar\"\n",
    "\n",
    "del d[TEST_1]\n",
    "\n",
    "assert d.get(TEST_1, None) is None"
   ]
  },
  {
   "cell_type": "markdown",
   "id": "cognitive-participant",
   "metadata": {},
   "source": [
    "Glob matching"
   ]
  },
  {
   "cell_type": "code",
   "execution_count": null,
   "id": "fewer-cliff",
   "metadata": {},
   "outputs": [],
   "source": [
    "d[TEST_1] = \"asdfoobar\"\n",
    "\n",
    "d[TEST_2] = \"foobarasd\"\n",
    "\n",
    "d[\"key_testx_3\"] = \"barasdfoo\"\n",
    "\n",
    "assert d.glob(\"key_test*\") == [\"asdfoobar\", \"foobarasd\", \"barasdfoo\"]\n",
    "\n",
    "assert d.glob(\"key_test_?\") == [\"asdfoobar\", \"foobarasd\"]\n",
    "\n",
    "assert d.glob(\"key_tes[tx]*\") == [\"asdfoobar\", \"foobarasd\", \"barasdfoo\"]"
   ]
  },
  {
   "cell_type": "markdown",
   "id": "wrapped-shooting",
   "metadata": {},
   "source": [
    "Numbers"
   ]
  },
  {
   "cell_type": "code",
   "execution_count": null,
   "id": "classified-niagara",
   "metadata": {},
   "outputs": [],
   "source": [
    "d[TEST_1] = 1\n",
    "\n",
    "d[TEST_2] = 2\n",
    "\n",
    "assert d[TEST_1] + d[TEST_2] == 3"
   ]
  },
  {
   "cell_type": "markdown",
   "id": "reverse-nightlife",
   "metadata": {},
   "source": [
    "## Benchmarks"
   ]
  },
  {
   "cell_type": "code",
   "execution_count": null,
   "id": "conditional-crowd",
   "metadata": {},
   "outputs": [],
   "source": [
    "from string import ascii_lowercase, printable\n",
    "from random import choice\n",
    "import random\n",
    "\n",
    "\n",
    "def random_string(string_length=10, fuzz=False, space=False):\n",
    "    \"\"\"Generate a random string of fixed length \"\"\"\n",
    "    letters = ascii_lowercase\n",
    "    letters = letters + \" \" if space else letters\n",
    "    if fuzz:\n",
    "        letters = printable\n",
    "    return \"\".join(choice(letters) for i in range(string_length))"
   ]
  },
  {
   "cell_type": "code",
   "execution_count": null,
   "id": "encouraging-inquiry",
   "metadata": {},
   "outputs": [],
   "source": [
    "import gc\n",
    "\n",
    "import pickle\n",
    "\n",
    "import json"
   ]
  },
  {
   "cell_type": "markdown",
   "id": "physical-culture",
   "metadata": {},
   "source": [
    "**Pickle**"
   ]
  },
  {
   "cell_type": "code",
   "execution_count": null,
   "id": "liquid-punch",
   "metadata": {},
   "outputs": [],
   "source": [
    "d = SQLDict(\n",
    "    \":memory:\",\n",
    "    encoder=lambda x: pickle.dumps(x).hex(),\n",
    "    decoder=lambda x: pickle.loads(bytes.fromhex(x)),\n",
    ")"
   ]
  },
  {
   "cell_type": "code",
   "execution_count": null,
   "id": "usual-tokyo",
   "metadata": {},
   "outputs": [
    {
     "data": {
      "text/plain": [
       "110"
      ]
     },
     "execution_count": null,
     "metadata": {},
     "output_type": "execute_result"
    }
   ],
   "source": [
    "gc.collect()"
   ]
  },
  {
   "cell_type": "code",
   "execution_count": null,
   "id": "consistent-majority",
   "metadata": {},
   "outputs": [
    {
     "name": "stdout",
     "output_type": "stream",
     "text": [
      "69.2 µs ± 4.84 µs per loop (mean ± std. dev. of 10 runs, 20000 loops each)\n"
     ]
    }
   ],
   "source": [
    "%%timeit -n20000 -r10\n",
    "\n",
    "d[random_string(8)] = random_string(50)\n",
    "\n",
    "d.get(random_string(8), None)"
   ]
  },
  {
   "cell_type": "markdown",
   "id": "editorial-bradley",
   "metadata": {},
   "source": [
    "**Noop**"
   ]
  },
  {
   "cell_type": "code",
   "execution_count": null,
   "id": "mechanical-picture",
   "metadata": {},
   "outputs": [],
   "source": [
    "d = SQLDict(\n",
    "    \":memory:\",\n",
    "    encoder=lambda x: x,\n",
    "    decoder=lambda x: x,\n",
    ")"
   ]
  },
  {
   "cell_type": "code",
   "execution_count": null,
   "id": "treated-immune",
   "metadata": {},
   "outputs": [
    {
     "data": {
      "text/plain": [
       "69"
      ]
     },
     "execution_count": null,
     "metadata": {},
     "output_type": "execute_result"
    }
   ],
   "source": [
    "gc.collect()"
   ]
  },
  {
   "cell_type": "code",
   "execution_count": null,
   "id": "egyptian-intermediate",
   "metadata": {},
   "outputs": [
    {
     "name": "stdout",
     "output_type": "stream",
     "text": [
      "66.8 µs ± 2.41 µs per loop (mean ± std. dev. of 10 runs, 20000 loops each)\n"
     ]
    }
   ],
   "source": [
    "%%timeit -n20000 -r10\n",
    "\n",
    "d[random_string(8)] = random_string(50)\n",
    "\n",
    "d.get(random_string(8), None)"
   ]
  },
  {
   "cell_type": "markdown",
   "id": "weighted-rough",
   "metadata": {},
   "source": [
    "**JSON**"
   ]
  },
  {
   "cell_type": "code",
   "execution_count": null,
   "id": "current-context",
   "metadata": {},
   "outputs": [],
   "source": [
    "d = SQLDict(\n",
    "    \":memory:\",\n",
    "    encoder=lambda x: json.dumps(x),\n",
    "    decoder=lambda x: json.loads(x),\n",
    ")"
   ]
  },
  {
   "cell_type": "code",
   "execution_count": null,
   "id": "honey-modern",
   "metadata": {},
   "outputs": [
    {
     "data": {
      "text/plain": [
       "69"
      ]
     },
     "execution_count": null,
     "metadata": {},
     "output_type": "execute_result"
    }
   ],
   "source": [
    "gc.collect()"
   ]
  },
  {
   "cell_type": "code",
   "execution_count": null,
   "id": "eleven-smoke",
   "metadata": {},
   "outputs": [
    {
     "name": "stdout",
     "output_type": "stream",
     "text": [
      "68.6 µs ± 3.07 µs per loop (mean ± std. dev. of 10 runs, 20000 loops each)\n"
     ]
    }
   ],
   "source": [
    "%%timeit -n20000 -r10\n",
    "\n",
    "d[random_string(8)] = random_string(50)\n",
    "\n",
    "d.get(random_string(8), None)"
   ]
  },
  {
   "cell_type": "markdown",
   "id": "surface-internet",
   "metadata": {},
   "source": [
    "**Pickle Python obj**"
   ]
  },
  {
   "cell_type": "code",
   "execution_count": null,
   "id": "golden-parker",
   "metadata": {},
   "outputs": [],
   "source": [
    "d = SQLDict(\n",
    "    \":memory:\",\n",
    "    encoder=lambda x: pickle.dumps(x).hex(),\n",
    "    decoder=lambda x: pickle.loads(bytes.fromhex(x)),\n",
    ")"
   ]
  },
  {
   "cell_type": "code",
   "execution_count": null,
   "id": "agricultural-dealer",
   "metadata": {},
   "outputs": [
    {
     "data": {
      "text/plain": [
       "3189"
      ]
     },
     "execution_count": null,
     "metadata": {},
     "output_type": "execute_result"
    }
   ],
   "source": [
    "gc.collect()"
   ]
  },
  {
   "cell_type": "code",
   "execution_count": null,
   "id": "vocal-marathon",
   "metadata": {},
   "outputs": [],
   "source": [
    "class C:\n",
    "    def __init__(self, x):\n",
    "        self.x = x\n",
    "\n",
    "    def pp(self):\n",
    "        return x\n",
    "\n",
    "    def f(self):\n",
    "        def _f(y):\n",
    "            return y * self.x ** 2\n",
    "\n",
    "        return _f"
   ]
  },
  {
   "cell_type": "code",
   "execution_count": null,
   "id": "fifty-translator",
   "metadata": {},
   "outputs": [
    {
     "name": "stdout",
     "output_type": "stream",
     "text": [
      "41.1 µs ± 2.75 µs per loop (mean ± std. dev. of 10 runs, 20000 loops each)\n"
     ]
    }
   ],
   "source": [
    "%%timeit -n20000 -r10\n",
    "\n",
    "d[random_string(8)] = C(random.randint(1, 200))\n",
    "\n",
    "d.get(random_string(8), None)"
   ]
  },
  {
   "cell_type": "markdown",
   "id": "guilty-prospect",
   "metadata": {},
   "source": [
    "**Dictionary**"
   ]
  },
  {
   "cell_type": "code",
   "execution_count": null,
   "id": "prescription-bernard",
   "metadata": {},
   "outputs": [],
   "source": [
    "d = {}"
   ]
  },
  {
   "cell_type": "code",
   "execution_count": null,
   "id": "representative-deposit",
   "metadata": {},
   "outputs": [
    {
     "data": {
      "text/plain": [
       "91"
      ]
     },
     "execution_count": null,
     "metadata": {},
     "output_type": "execute_result"
    }
   ],
   "source": [
    "gc.collect()"
   ]
  },
  {
   "cell_type": "code",
   "execution_count": null,
   "id": "serious-ancient",
   "metadata": {},
   "outputs": [
    {
     "name": "stdout",
     "output_type": "stream",
     "text": [
      "53.1 µs ± 4.42 µs per loop (mean ± std. dev. of 10 runs, 20000 loops each)\n"
     ]
    }
   ],
   "source": [
    "%%timeit -n20000 -r10\n",
    "\n",
    "d[random_string(8)] = random_string(50)\n",
    "\n",
    "d.get(random_string(8), None)"
   ]
  },
  {
   "cell_type": "code",
   "execution_count": null,
   "id": "greater-absence",
   "metadata": {},
   "outputs": [],
   "source": []
  }
 ],
 "metadata": {
  "kernelspec": {
   "display_name": "Python 3",
   "language": "python",
   "name": "python3"
  }
 },
 "nbformat": 4,
 "nbformat_minor": 5
}
